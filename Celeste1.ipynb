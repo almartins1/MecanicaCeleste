{
  "nbformat": 4,
  "nbformat_minor": 0,
  "metadata": {
    "colab": {
      "name": "Celeste1.ipynb",
      "provenance": [],
      "collapsed_sections": []
    },
    "kernelspec": {
      "name": "python3",
      "display_name": "Python 3"
    },
    "language_info": {
      "name": "python"
    }
  },
  "cells": [
    {
      "cell_type": "code",
      "source": [
        "import pandas as pd\n",
        "import numpy as np\n",
        "import math\n",
        "\n",
        "# Datos que conocemos\n",
        "# Un asteroide presenta\n",
        "a = 3.8477823     #(unidades: ua)\n",
        "e = 0.047825      #(unidades: no tiene)\n",
        "\n",
        "#Constante K\n",
        "K = 0.01720209908\n",
        "#(ecliptico)\n",
        "\n",
        "#Como es un asteroride entonces m_2/m_1 = 0 luego T = 2pi a^{3/2}/K luego\n",
        "\n",
        "T = (2*np.pi*math.pow(a, 3/2))/K\n",
        "\n",
        "print(\"----------------\")\n",
        "\n",
        "print('El periodo orbital esta dado por: {0} {1}'.format(T, 'Dias solares medios'))\n",
        "\n",
        "#Con esto hallamos n (en grados por dia) de la siguiente manera:\n",
        "\n",
        "n = 360/T\n",
        "\n",
        "print(\"n esta dado por {0} {1}\".format(n, \"°/d\"))\n",
        "print(\"----------------\")\n",
        "\n",
        "#------------------------------------------------------\n",
        "#Calculemos t - t_0 \n",
        "\n",
        "# T_0 -> 25 de mayo 3h 4m 50s hora de Colombia (2022)\n",
        "# Pasamos T_0 a TUC\n",
        "# T_0 -> 25 de mayo 8h 4m 50s hora de Colombia (2022)\n",
        "\n",
        "#Con la librería pandas ponemos T_0 como una fecha para pasarla a Juliana \n",
        "#Hora T_0 TUC\n",
        "t0 = pd.Timestamp(year = 2022,  month = 5, day = 25, hour = 8, minute=4, second = 50, tz = 'UTC') \n",
        "  \n",
        "#Determinar r y theta para el instante \n",
        "#t -> 15 de Julio a las 20h 30m 27s hora de Colombia (2022)\n",
        "#Pasamos T a TUC\n",
        "#t -> 16 de Julio a las 1h 30m 27s hora de Colombia (2022)\n",
        "\n",
        "#Con la librería pandas ponemos t como una fecha para pasarla a Juliana \n",
        "#Hora T_0 TUC\n",
        "t = pd.Timestamp(year = 2022,  month = 7, day = 16, hour = 1, minute=30, second = 27, tz = 'UTC') \n",
        "\n",
        "jult_0 = t0.to_julian_date()\n",
        "jult = t.to_julian_date()\n",
        "\n",
        "print(t0)\n",
        "print(t)\n",
        "\n",
        "print(\"----------------\")\n",
        "\n",
        "print(\"fecha juliana\")\n",
        "print(jult_0)\n",
        "print(jult)\n",
        "\n",
        "print(\"----------------\")\n",
        "\n",
        "# Hallamos t - t_0 (Delta_t)\n",
        "\n",
        "Delta_t = jult - jult_0 \n",
        "\n",
        "print(\"t - t_0\")\n",
        "print(Delta_t)\n",
        "\n",
        "# Con esto tenemos M = n(t-t_0) (M es anomalía media) dada en grados\n",
        "\n",
        "print(\"----------------\")\n",
        "M = n*(Delta_t)\n",
        "\n",
        "print(\"La anomalía media M esta dada por {0} {1}\".format(M, \"°\"))\n",
        "\n",
        "print(\"----------------\")\n",
        "\n",
        "#Calculemos la anomalía excéntrica E dada por la iteración:\n",
        "#Nota np.sin de entrada son radianes por lo tanto se convierte de grados a \n",
        "#radianes para realizar la operación\n",
        "E = M\n",
        "\n",
        "#iterar mas veces si es necesario\n",
        "for i in range(1,10):\n",
        "    E = M + e*(180/np.pi)*(np.sin(E*np.pi/180)) \n",
        "    if(i == 8):\n",
        "        print(\"test de E \", E)\n",
        "\n",
        "#Si por lo menos 8 cifras decimales coinciden entre el ultimo y el anterior\n",
        "#entonces ya tenemos E\n",
        "\n",
        "print(\"La anomalía excéntrica E esta dada por {0} {1}\".format(E, \"\"))  \n",
        "\n",
        "print(\"----------------\")\n",
        "\n",
        "#Hallemos r\n",
        "\n",
        "r = a*(1 - e*(np.cos(E*np.pi/180)))\n",
        "\n",
        "print(\"r esta dado por {0} {1}\".format(r, \"u.a.\"))\n",
        "\n",
        "\n",
        "print(\"----------------\")\n",
        "\n",
        "#Hallemos theta\n",
        "\n",
        "adentro = (np.sqrt((1+e)/(1-e)) * np.tan(E*np.pi/(180*2))) \n",
        "theta = np.arctan(adentro)\n",
        "\n",
        "#Cambio a grados:\n",
        "\n",
        "theta = 2*theta*180/np.pi\n",
        "\n",
        "print(\"theta esta dado por {0} {1}\".format(theta, \"°\"))\n"
      ],
      "metadata": {
        "colab": {
          "base_uri": "https://localhost:8080/"
        },
        "id": "s5wzlINcZKRh",
        "outputId": "17c66788-b064-4b46-d79b-bf09376e8306"
      },
      "execution_count": 30,
      "outputs": [
        {
          "output_type": "stream",
          "name": "stdout",
          "text": [
            "----------------\n",
            "El periodo orbital esta dado por: 2756.8565101498066 Dias solares medios\n",
            "n esta dado por 0.13058351012270775 °/d\n",
            "----------------\n",
            "2022-05-25 08:04:50+00:00\n",
            "2022-07-16 01:30:27+00:00\n",
            "----------------\n",
            "fecha juliana\n",
            "2459724.836689815\n",
            "2459776.5628125\n",
            "----------------\n",
            "t - t_0\n",
            "51.726122685242444\n",
            "----------------\n",
            "La anomalía media M esta dada por 6.75457866527678 °\n",
            "----------------\n",
            "test de E  7.09293238540117\n",
            "La anomalía excéntrica E esta dada por 7.092932385409468 \n",
            "----------------\n",
            "r esta dado por 3.6651703854396342 u.a.\n",
            "----------------\n",
            "theta esta dado por 7.439712394508323 °\n"
          ]
        }
      ]
    },
    {
      "cell_type": "code",
      "source": [
        ""
      ],
      "metadata": {
        "colab": {
          "base_uri": "https://localhost:8080/"
        },
        "id": "SC7MUdeOAAw0",
        "outputId": "53a7bcb1-c269-471f-fca8-a18bcf9e2c87"
      },
      "execution_count": 3,
      "outputs": [
        {
          "output_type": "stream",
          "name": "stdout",
          "text": [
            "2022-05-25 08:04:50+00:00\n"
          ]
        }
      ]
    }
  ]
}