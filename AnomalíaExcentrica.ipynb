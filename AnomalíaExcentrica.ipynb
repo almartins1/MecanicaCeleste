{
  "nbformat": 4,
  "nbformat_minor": 0,
  "metadata": {
    "colab": {
      "name": "AnomalíaExcentrica.ipynb",
      "provenance": []
    },
    "kernelspec": {
      "name": "python3",
      "display_name": "Python 3"
    },
    "language_info": {
      "name": "python"
    }
  },
  "cells": [
    {
      "cell_type": "code",
      "execution_count": 2,
      "metadata": {
        "colab": {
          "base_uri": "https://localhost:8080/"
        },
        "id": "JSRm8PObRbWZ",
        "outputId": "a3b9e75e-3058-4b69-ad50-9ec543c0a742"
      },
      "outputs": [
        {
          "output_type": "stream",
          "name": "stdout",
          "text": [
            "test de E  7.09293238540117\n",
            "La anomalía excéntrica E esta dada por 7.092932385409468 \n"
          ]
        }
      ],
      "source": [
        "import pandas as pd\n",
        "import numpy as np\n",
        "import math\n",
        "\n",
        "#Para hallar solo la anomalía excéntrica\n",
        "\n",
        "M = 6.75457866527678    #en grados\n",
        "e = 0.047825 \n",
        "\n",
        "\n",
        "#Calculemos la anomalía excéntrica E dada por la iteración:\n",
        "#Nota np.sin de entrada son radianes por lo tanto se convierte de grados a \n",
        "#radianes para realizar la operación\n",
        "E = M\n",
        "\n",
        "#iterar mas veces si es necesario\n",
        "for i in range(1,10):\n",
        "    E = M + e*(180/np.pi)*(np.sin(E*np.pi/180)) \n",
        "    if(i == 8):\n",
        "        print(\"test de E \", E)\n",
        "\n",
        "#Si por lo menos 8 cifras decimales coinciden entre el ultimo y el anterior\n",
        "#entonces ya tenemos E\n",
        "\n",
        "print(\"La anomalía excéntrica E esta dada por {0} {1}\".format(E, \"\")) "
      ]
    }
  ]
}